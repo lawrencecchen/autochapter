{
 "cells": [
  {
   "cell_type": "code",
   "execution_count": 9,
   "metadata": {},
   "outputs": [],
   "source": [
    "import cv2\n",
    "import matplotlib.pyplot as plt\n",
    "import os\n",
    "import json\n",
    "import numpy as np"
   ]
  },
  {
   "cell_type": "code",
   "execution_count": 29,
   "metadata": {},
   "outputs": [],
   "source": [
    "def get_diffs(video_url: str):\n",
    "  # diffs_path = os.path.join(os.getcwd(), \"diffs\", video_url.split(\"/\")[-1].split(\".\")[0] + \".json\")\n",
    "  diffs_path = video_url\n",
    "  if os.path.exists(diffs_path):\n",
    "    with open(diffs_path) as f:\n",
    "      return json.load(f)\n",
    "  cap = cv2.VideoCapture(video_url)\n",
    "  prev_frame = None\n",
    "  diffs = []\n",
    "  count = 0\n",
    "  while True:\n",
    "    ret, frame = cap.read()\n",
    "    if not ret:\n",
    "        break\n",
    "    # gray = cv2.cvtColor(frame, cv2.COLOR_BGR2GRAY)\n",
    "    if prev_frame is not None:\n",
    "      diff = cv2.absdiff(prev_frame, frame).sum()\n",
    "      diffs.append(diff)\n",
    "    count += 30\n",
    "    cap.set(cv2.CAP_PROP_POS_FRAMES, count)\n",
    "    prev_frame = frame\n",
    "    if cv2.waitKey(1) == ord('q'):\n",
    "        break\n",
    "  cap.release()\n",
    "  diffs = diffs.tolist() if isinstance(diffs, np.ndarray) else diffs\n",
    "  with open(diffs_path, \"w\") as f:\n",
    "    json.dump(diffs, f)\n",
    "  return diff"
   ]
  },
  {
   "cell_type": "code",
   "execution_count": 30,
   "metadata": {},
   "outputs": [
    {
     "name": "stderr",
     "output_type": "stream",
     "text": [
      "OpenCV: Couldn't read video stream from file \"videos/cs61a_lec1.mkv\"\n"
     ]
    },
    {
     "ename": "FileNotFoundError",
     "evalue": "[Errno 2] No such file or directory: '/Users/lawrencechen/fun/autochapter/autochapter/diffs/cs61a_lec1.json'",
     "output_type": "error",
     "traceback": [
      "\u001b[0;31m---------------------------------------------------------------------------\u001b[0m",
      "\u001b[0;31mFileNotFoundError\u001b[0m                         Traceback (most recent call last)",
      "Cell \u001b[0;32mIn [30], line 1\u001b[0m\n\u001b[0;32m----> 1\u001b[0m diffs \u001b[39m=\u001b[39m get_diffs(\u001b[39m\"\u001b[39;49m\u001b[39mvideos/cs61a_lec1.mkv\u001b[39;49m\u001b[39m\"\u001b[39;49m)\n",
      "Cell \u001b[0;32mIn [29], line 25\u001b[0m, in \u001b[0;36mget_diffs\u001b[0;34m(video_url)\u001b[0m\n\u001b[1;32m     23\u001b[0m cap\u001b[39m.\u001b[39mrelease()\n\u001b[1;32m     24\u001b[0m diffs \u001b[39m=\u001b[39m diffs\u001b[39m.\u001b[39mtolist() \u001b[39mif\u001b[39;00m \u001b[39misinstance\u001b[39m(diffs, np\u001b[39m.\u001b[39mndarray) \u001b[39melse\u001b[39;00m diffs\n\u001b[0;32m---> 25\u001b[0m \u001b[39mwith\u001b[39;00m \u001b[39mopen\u001b[39;49m(diffs_path, \u001b[39m\"\u001b[39;49m\u001b[39mw\u001b[39;49m\u001b[39m\"\u001b[39;49m) \u001b[39mas\u001b[39;00m f:\n\u001b[1;32m     26\u001b[0m   json\u001b[39m.\u001b[39mdump(diffs, f)\n\u001b[1;32m     27\u001b[0m \u001b[39mreturn\u001b[39;00m diff\n",
      "\u001b[0;31mFileNotFoundError\u001b[0m: [Errno 2] No such file or directory: '/Users/lawrencechen/fun/autochapter/autochapter/diffs/cs61a_lec1.json'"
     ]
    }
   ],
   "source": [
    "# diffs = get_diffs(\"videos/cs61a_lec1.mkv\")"
   ]
  },
  {
   "cell_type": "code",
   "execution_count": 12,
   "metadata": {},
   "outputs": [],
   "source": [
    "\n",
    "# median = np.median(diffs)\n",
    "# mean = np.mean(diffs)\n",
    "# jumps = [diff for diff in diffs if diff > .25e8]\n",
    "# len(jumps)"
   ]
  },
  {
   "cell_type": "code",
   "execution_count": 13,
   "metadata": {},
   "outputs": [],
   "source": [
    "# peaks = [diff for diff in diffs if diff >= .2e8]\n",
    "# len(peaks)"
   ]
  },
  {
   "cell_type": "code",
   "execution_count": 14,
   "metadata": {},
   "outputs": [
    {
     "data": {
      "text/plain": [
       "[<matplotlib.lines.Line2D at 0x147f01e40>]"
      ]
     },
     "execution_count": 14,
     "metadata": {},
     "output_type": "execute_result"
    },
    {
     "data": {
      "image/png": "[encoded data removed]",
      "text/plain": [
       "<Figure size 640x480 with 1 Axes>"
      ]
     },
     "metadata": {},
     "output_type": "display_data"
    }
   ],
   "source": [
    "# plt.plot(diffs)"
   ]
  },
  {
   "cell_type": "code",
   "execution_count": null,
   "metadata": {},
   "outputs": [],
   "source": []
  },
  {
   "cell_type": "code",
   "execution_count": 19,
   "metadata": {},
   "outputs": [
    {
     "data": {
      "text/plain": [
       "([0,\n",
       "  40,\n",
       "  193,\n",
       "  196,\n",
       "  198,\n",
       "  204,\n",
       "  211,\n",
       "  359,\n",
       "  362,\n",
       "  391,\n",
       "  1498,\n",
       "  1500,\n",
       "  1540,\n",
       "  1561,\n",
       "  1570,\n",
       "  1582,\n",
       "  2672,\n",
       "  2960,\n",
       "  2974,\n",
       "  2991,\n",
       "  3068,\n",
       "  3086,\n",
       "  3306,\n",
       "  3309,\n",
       "  3312,\n",
       "  3316,\n",
       "  3346,\n",
       "  3353,\n",
       "  3367,\n",
       "  3612,\n",
       "  3615,\n",
       "  3629,\n",
       "  3683,\n",
       "  3721,\n",
       "  3725,\n",
       "  3728,\n",
       "  3815,\n",
       "  3836,\n",
       "  3849,\n",
       "  3851,\n",
       "  3859,\n",
       "  3862],\n",
       " 42)"
      ]
     },
     "execution_count": 19,
     "metadata": {},
     "output_type": "execute_result"
    }
   ],
   "source": [
    "def get_timestamps(diffs, threshold=0.2e8, min_segment_length=20):\n",
    "  last_i = -20\n",
    "  timestamps = []\n",
    "  # 1, 2, 3, 5, 8 -> 0, 1, 1, 2, 3\n",
    "  diffs_2 = [float(\"inf\")] # start with 0 because we always want to include 0\n",
    "  for i in range(1, len(diffs)):\n",
    "    diffs_2.append(diffs[i] - diffs[i - 1])\n",
    "  \n",
    "  for i, diff in enumerate(diffs_2):\n",
    "    if diff >= threshold or i == 0 and i >= last_i + min_segment_length:\n",
    "      last_i = i\n",
    "      timestamps.append(i)\n",
    "  return timestamps\n",
    "\n",
    "# r = get_timestamps(diffs, threshold=0.3e8, min_segment_length=50)\n",
    "# r, len(r)"
   ]
  },
  {
   "cell_type": "code",
   "execution_count": 16,
   "metadata": {},
   "outputs": [],
   "source": [
    "# plt.scatter(range(len(diffs)), diffs)"
   ]
  },
  {
   "cell_type": "code",
   "execution_count": 17,
   "metadata": {},
   "outputs": [],
   "source": [
    "# percentile_5 = np.percentile(diffs, 5)\n",
    "# percentile_95 = np.percentile(diffs, 95)\n",
    "# percentile_5, percentile_95\n",
    "# np.where(np.array(diffs) < percentile_5)\n",
    "\n",
    "# len()\n",
    "\n",
    "# # plt.hist(range(len(diffs)), 30)"
   ]
  }
 ],
 "metadata": {
  "kernelspec": {
   "display_name": "Python 3.10.6 ('venv': venv)",
   "language": "python",
   "name": "python3"
  },
  "language_info": {
   "codemirror_mode": {
    "name": "ipython",
    "version": 3
   },
   "file_extension": ".py",
   "mimetype": "text/x-python",
   "name": "python",
   "nbconvert_exporter": "python",
   "pygments_lexer": "ipython3",
   "version": "3.10.6"
  },
  "orig_nbformat": 4,
  "vscode": {
   "interpreter": {
    "hash": "9f3691336094409b7a2e6da62f7c07d63be3cbfcc8c3e222f01ef3baf293cba1"
   }
  }
 },
 "nbformat": 4,
 "nbformat_minor": 2
}
