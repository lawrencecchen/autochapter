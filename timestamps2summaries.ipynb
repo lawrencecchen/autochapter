{
 "cells": [
  {
   "cell_type": "code",
   "execution_count": 3,
   "metadata": {},
   "outputs": [
    {
     "name": "stderr",
     "output_type": "stream",
     "text": [
      "/Users/lawrencechen/fun/autochapter/venv/lib/python3.10/site-packages/tqdm/auto.py:22: TqdmWarning: IProgress not found. Please update jupyter and ipywidgets. See https://ipywidgets.readthedocs.io/en/stable/user_install.html\n",
      "  from .autonotebook import tqdm as notebook_tqdm\n"
     ]
    }
   ],
   "source": [
    "from typing import List\n",
    "import whisper\n",
    "\n",
    "model = whisper.load_model(\"tiny\")"
   ]
  },
  {
   "cell_type": "code",
   "execution_count": 4,
   "metadata": {},
   "outputs": [],
   "source": [
    "COHERE_API_KEY = \"8rLIrm60Gf9mSmeIF2RHxv1TNcjXpHFDZ9XnqjD2\""
   ]
  },
  {
   "cell_type": "code",
   "execution_count": 5,
   "metadata": {},
   "outputs": [],
   "source": [
    "def timestamps2summaries(video_url: str, timestamps: List[int], output_dir: str):\n",
    "  transcribed = model.transcribe(video_url)\n",
    "  print(transcribed)\n",
    "  # transcribed[\"timestamps\"]"
   ]
  },
  {
   "cell_type": "code",
   "execution_count": 8,
   "metadata": {},
   "outputs": [],
   "source": [
    "import os\n",
    "import json\n",
    "\n",
    "# video_url = \"videos/cs61a_lec1.mkv\"\n",
    "# video_url = \"videos/cs61b_lec1.webm\"\n",
    "# result = model.transcribe(video_url)\n",
    "def transcribe_video(video_url: str):\n",
    "  video_transcribed_path = os.path.join(\"transcribed\", video_url.split(\"/\")[-1].split(\".\")[0] + \".json\")\n",
    "  print(video_transcribed_path)\n",
    "  if os.path.exists(video_transcribed_path):\n",
    "    with open(video_transcribed_path) as f:\n",
    "      return json.load(f)\n",
    "  else:\n",
    "    result = model.transcribe(video_url)\n",
    "    with open(video_transcribed_path, \"w\") as f:\n",
    "      json.dump(result, f)\n",
    "    return result"
   ]
  },
  {
   "cell_type": "code",
   "execution_count": 10,
   "metadata": {},
   "outputs": [
    {
     "name": "stdout",
     "output_type": "stream",
     "text": [
      "transcribed/cs61a_lec1.json\n"
     ]
    }
   ],
   "source": [
    "transcribed = transcribe_video(\"videos/cs61a_lec1.mkv\")"
   ]
  },
  {
   "cell_type": "code",
   "execution_count": 18,
   "metadata": {},
   "outputs": [],
   "source": [
    "import cohere\n",
    "co = cohere.Client(COHERE_API_KEY)\n",
    "\n",
    "def generate_summary(passage: str):\n",
    "  response = co.generate(\n",
    "    model='large',\n",
    "    prompt=f'Passage: Is Wordle getting tougher to solve? Players seem to be convinced that the game has gotten harder in recent weeks ever since The New York Times bought it from developer Josh Wardle in late January. The Times has come forward and shared that this likely isn’t the case. That said, the NYT did mess with the back end code a bit, removing some offensive and sexual language, as well as some obscure words There is a viral thread claiming that a confirmation bias was at play. One Twitter user went so far as to claim the game has gone to “the dusty section of the dictionary” to find its latest words.\\n\\nTLDR: Wordle has not gotten more difficult to solve.\\n--\\nPassage: ArtificialIvan, a seven-year-old, London-based payment and expense management software company, has raised $190 million in Series C funding led by ARG Global, with participation from D9 Capital Group and Boulder Capital. Earlier backers also joined the round, including Hilton Group, Roxanne Capital, Paved Roads Ventures, Brook Partners, and Plato Capital.\\n\\nTLDR: ArtificialIvan has raised $190 million in Series C funding.\\n--\\nPassage: {passage}\\n\\nTLDR:',\n",
    "    max_tokens=50,\n",
    "    temperature=0.8,\n",
    "    k=0,\n",
    "    p=1,\n",
    "    frequency_penalty=0,\n",
    "    presence_penalty=0,\n",
    "    stop_sequences=[\"--\"],\n",
    "    return_likelihoods='NONE')\n",
    "  # print('Prediction: {}'.format(response.generations[0].text))\n",
    "  return response.generations[0].text"
   ]
  },
  {
   "cell_type": "code",
   "execution_count": 21,
   "metadata": {},
   "outputs": [
    {
     "data": {
      "text/plain": [
       "' Rachael Bale is going to give you a set of lecture about software engineering.\\n--'"
      ]
     },
     "execution_count": 21,
     "metadata": {},
     "output_type": "execute_result"
    }
   ],
   "source": [
    "generate_summary(transcribed[\"text\"][0:2000])"
   ]
  },
  {
   "cell_type": "code",
   "execution_count": 2,
   "metadata": {},
   "outputs": [
    {
     "ename": "NameError",
     "evalue": "name 'result' is not defined",
     "output_type": "error",
     "traceback": [
      "\u001b[0;31m---------------------------------------------------------------------------\u001b[0m",
      "\u001b[0;31mNameError\u001b[0m                                 Traceback (most recent call last)",
      "Cell \u001b[0;32mIn [2], line 3\u001b[0m\n\u001b[1;32m      1\u001b[0m \u001b[39mdef\u001b[39;00m \u001b[39mget_segment\u001b[39m(start: \u001b[39mint\u001b[39m, duration: \u001b[39mint\u001b[39m):\n\u001b[1;32m      2\u001b[0m   \u001b[39mreturn\u001b[39;00m result[\u001b[39m\"\u001b[39m\u001b[39mtext\u001b[39m\u001b[39m\"\u001b[39m][start:start\u001b[39m+\u001b[39mduration]\n\u001b[0;32m----> 3\u001b[0m get_segment(\u001b[39m0\u001b[39;49m, \u001b[39m60\u001b[39;49m)\n",
      "Cell \u001b[0;32mIn [2], line 2\u001b[0m, in \u001b[0;36mget_segment\u001b[0;34m(start, duration)\u001b[0m\n\u001b[1;32m      1\u001b[0m \u001b[39mdef\u001b[39;00m \u001b[39mget_segment\u001b[39m(start: \u001b[39mint\u001b[39m, duration: \u001b[39mint\u001b[39m):\n\u001b[0;32m----> 2\u001b[0m   \u001b[39mreturn\u001b[39;00m result[\u001b[39m\"\u001b[39m\u001b[39mtext\u001b[39m\u001b[39m\"\u001b[39m][start:start\u001b[39m+\u001b[39mduration]\n",
      "\u001b[0;31mNameError\u001b[0m: name 'result' is not defined"
     ]
    }
   ],
   "source": [
    "def get_segment(result, start: int, duration: int):\n",
    "  assert type(result[\"text\"]) is str, 'result[\"text\"] is invalid'\n",
    "  assert result[\"segments\"] is not None, 'result[\"segments\"] is invalid'\n",
    "  ts = 0\n",
    "  for segment in result[\"segments\"]:\n",
    "    if ts + segment[\"duration\"] > start:\n",
    "      break\n",
    "    ts += segment[\"duration\"]\n",
    "\n",
    "  # for segment in result[\"segments\"]:\n",
    "  #   if segment[\"start\"]\n",
    "  return result[\"text\"][start:start+duration]\n",
    "get_segment(0, 60)"
   ]
  }
 ],
 "metadata": {
  "kernelspec": {
   "display_name": "Python 3.10.6 ('venv': venv)",
   "language": "python",
   "name": "python3"
  },
  "language_info": {
   "codemirror_mode": {
    "name": "ipython",
    "version": 3
   },
   "file_extension": ".py",
   "mimetype": "text/x-python",
   "name": "python",
   "nbconvert_exporter": "python",
   "pygments_lexer": "ipython3",
   "version": "3.10.6"
  },
  "orig_nbformat": 4,
  "vscode": {
   "interpreter": {
    "hash": "9f3691336094409b7a2e6da62f7c07d63be3cbfcc8c3e222f01ef3baf293cba1"
   }
  }
 },
 "nbformat": 4,
 "nbformat_minor": 2
}
